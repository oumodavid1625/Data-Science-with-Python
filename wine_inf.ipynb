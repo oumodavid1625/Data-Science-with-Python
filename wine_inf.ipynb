{
 "cells": [
  {
   "cell_type": "markdown",
   "id": "11106cc2",
   "metadata": {},
   "source": [
    "Inferential Statistics Tutorial Using the Wine Dataset in Python\n",
    "\n",
    "Inferential statistics allow us to make inferences or predictions about a population based on a sample of data. \n",
    "\n",
    "In this tutorial, we will use the Wine dataset to demonstrate how to perform inferential statistical analysis. \n",
    "\n",
    "The Wine dataset contains the results of a chemical analysis of wines grown in a specific region of Italy, with 13 features describing the chemical properties of the wine and a target variable indicating the wine class.\n",
    "\n",
    "We will use Python libraries such as pandas, numpy, scipy, statsmodels, and matplotlib to perform the analysis."
   ]
  },
  {
   "cell_type": "markdown",
   "id": "fd08dfe6",
   "metadata": {},
   "source": [
    "Import Libraries\n",
    "\n",
    "First, let's import the necessary libraries."
   ]
  },
  {
   "cell_type": "code",
   "execution_count": 1,
   "id": "25886fa7",
   "metadata": {},
   "outputs": [],
   "source": [
    "import pandas as pd\n",
    "import numpy as np\n",
    "import matplotlib.pyplot as plt\n",
    "import seaborn as sns\n",
    "from sklearn.datasets import load_wine\n",
    "import scipy.stats as stats\n",
    "import statsmodels.api as sm\n",
    "from statsmodels.formula.api import ols"
   ]
  },
  {
   "cell_type": "markdown",
   "id": "b7c221a4",
   "metadata": {},
   "source": [
    "Load the Wine Dataset\n",
    "\n",
    "The Wine dataset is available in the scikit-learn library. \n",
    "\n",
    "Let's load it and convert it into a pandas DataFrame for easier manipulation."
   ]
  },
  {
   "cell_type": "code",
   "execution_count": 2,
   "id": "4b839f1d",
   "metadata": {},
   "outputs": [
    {
     "name": "stdout",
     "output_type": "stream",
     "text": [
      "   alcohol  malic_acid   ash  alcalinity_of_ash  magnesium  total_phenols  \\\n",
      "0    14.23        1.71  2.43               15.6      127.0           2.80   \n",
      "1    13.20        1.78  2.14               11.2      100.0           2.65   \n",
      "2    13.16        2.36  2.67               18.6      101.0           2.80   \n",
      "3    14.37        1.95  2.50               16.8      113.0           3.85   \n",
      "4    13.24        2.59  2.87               21.0      118.0           2.80   \n",
      "\n",
      "   flavanoids  nonflavanoid_phenols  proanthocyanins  color_intensity   hue  \\\n",
      "0        3.06                  0.28             2.29             5.64  1.04   \n",
      "1        2.76                  0.26             1.28             4.38  1.05   \n",
      "2        3.24                  0.30             2.81             5.68  1.03   \n",
      "3        3.49                  0.24             2.18             7.80  0.86   \n",
      "4        2.69                  0.39             1.82             4.32  1.04   \n",
      "\n",
      "   od280/od315_of_diluted_wines  proline  target  \n",
      "0                          3.92   1065.0       0  \n",
      "1                          3.40   1050.0       0  \n",
      "2                          3.17   1185.0       0  \n",
      "3                          3.45   1480.0       0  \n",
      "4                          2.93    735.0       0  \n"
     ]
    }
   ],
   "source": [
    "# Load the Wine dataset\n",
    "wine = load_wine()\n",
    "\n",
    "# Convert to pandas DataFrame\n",
    "df = pd.DataFrame(wine.data, columns=wine.feature_names)\n",
    "\n",
    "# Add the target column to the DataFrame\n",
    "df['target'] = wine.target\n",
    "\n",
    "# Display the first few rows of the dataset\n",
    "print(df.head())"
   ]
  },
  {
   "cell_type": "markdown",
   "id": "73bdc066",
   "metadata": {},
   "source": [
    "Hypothesis Testing\n",
    "\n",
    "Hypothesis testing is a key component of inferential statistics. \n",
    "\n",
    "We will perform some common hypothesis tests on the Wine dataset.\n",
    "\n",
    "T-Test: Comparing Means of Two Groups\n",
    "\n",
    "A t-test is used to compare the means of two groups. \n",
    "Let's compare the mean alcohol content of two wine classes (e.g., class 0 and class 1)."
   ]
  },
  {
   "cell_type": "code",
   "execution_count": 3,
   "id": "93055c4e",
   "metadata": {},
   "outputs": [
    {
     "name": "stdout",
     "output_type": "stream",
     "text": [
      "T-statistic: 16.478551495156527, P-value: 1.9551698789379198e-33\n",
      "Reject the null hypothesis: There is a significant difference in alcohol content between the two classes.\n"
     ]
    }
   ],
   "source": [
    "# Extract alcohol content for class 0 and class 1\n",
    "alcohol_class_0 = df[df['target'] == 0]['alcohol']\n",
    "alcohol_class_1 = df[df['target'] == 1]['alcohol']\n",
    "\n",
    "# Perform an independent t-test\n",
    "t_stat, p_value = stats.ttest_ind(alcohol_class_0, alcohol_class_1)\n",
    "print(f\"T-statistic: {t_stat}, P-value: {p_value}\")\n",
    "\n",
    "# Interpret the result\n",
    "alpha = 0.05\n",
    "if p_value < alpha:\n",
    "    print(\"Reject the null hypothesis: There is a significant difference in alcohol content between the two classes.\")\n",
    "else:\n",
    "    print(\"Fail to reject the null hypothesis: There is no significant difference in alcohol content between the two classes.\")"
   ]
  },
  {
   "cell_type": "markdown",
   "id": "fa9c0390",
   "metadata": {},
   "source": [
    "ANOVA: Comparing Means of Multiple Groups\n",
    "\n",
    "ANOVA (Analysis of Variance) is used to compare the means of three or more groups. Let's compare the mean alcohol content across all three wine classes."
   ]
  },
  {
   "cell_type": "code",
   "execution_count": 4,
   "id": "f3204496",
   "metadata": {},
   "outputs": [
    {
     "name": "stdout",
     "output_type": "stream",
     "text": [
      "F-statistic: 135.07762424279912, P-value: 3.319503795619655e-36\n",
      "Reject the null hypothesis: There is a significant difference in alcohol content among the classes.\n"
     ]
    }
   ],
   "source": [
    "# Perform one-way ANOVA\n",
    "f_stat, p_value = stats.f_oneway(\n",
    "    df[df['target'] == 0]['alcohol'],\n",
    "    df[df['target'] == 1]['alcohol'],\n",
    "    df[df['target'] == 2]['alcohol']\n",
    ")\n",
    "print(f\"F-statistic: {f_stat}, P-value: {p_value}\")\n",
    "\n",
    "# Interpret the result\n",
    "alpha = 0.05\n",
    "if p_value < alpha:\n",
    "    print(\"Reject the null hypothesis: There is a significant difference in alcohol content among the classes.\")\n",
    "else:\n",
    "    print(\"Fail to reject the null hypothesis: There is no significant difference in alcohol content among the classes.\")"
   ]
  },
  {
   "cell_type": "markdown",
   "id": "f93f3712",
   "metadata": {},
   "source": [
    "Confidence Intervals\n",
    "\n",
    "Confidence intervals provide a range of values within which we can be fairly confident (e.g., 95%) that the true population parameter lies.\n",
    "\n",
    "Confidence Interval for the Mean\n",
    "\n",
    "Let's calculate the 95% confidence interval for the mean alcohol content."
   ]
  },
  {
   "cell_type": "code",
   "execution_count": 5,
   "id": "ec99f667",
   "metadata": {},
   "outputs": [
    {
     "name": "stdout",
     "output_type": "stream",
     "text": [
      "95% Confidence Interval for Alcohol Content: (12.880535136274652, 13.120700818781529)\n"
     ]
    }
   ],
   "source": [
    "# Calculate the 95% confidence interval for alcohol content\n",
    "confidence_interval = stats.t.interval(\n",
    "    0.95,  # Confidence level\n",
    "    len(df['alcohol']) - 1,  # Degrees of freedom\n",
    "    loc=df['alcohol'].mean(),  # Sample mean\n",
    "    scale=stats.sem(df['alcohol'])  # Standard error of the mean\n",
    ")\n",
    "print(f\"95% Confidence Interval for Alcohol Content: {confidence_interval}\")"
   ]
  },
  {
   "cell_type": "markdown",
   "id": "688764fa",
   "metadata": {},
   "source": [
    "Correlation and Regression Analysis\n",
    "\n",
    "Correlation and regression analysis help us understand the relationship between variables.\n",
    "\n",
    "Pearson Correlation\n",
    "\n",
    "Let's calculate the Pearson correlation coefficient between alcohol content and malic acid."
   ]
  },
  {
   "cell_type": "code",
   "execution_count": 6,
   "id": "2dd5c3e6",
   "metadata": {},
   "outputs": [
    {
     "name": "stdout",
     "output_type": "stream",
     "text": [
      "Pearson Correlation Coefficient: 0.09439694091041399, P-value: 0.21008198597074274\n",
      "Fail to reject the null hypothesis: There is no significant correlation between alcohol content and malic acid.\n"
     ]
    }
   ],
   "source": [
    "# Calculate Pearson correlation coefficient\n",
    "corr_coef, p_value = stats.pearsonr(df['alcohol'], df['malic_acid'])\n",
    "print(f\"Pearson Correlation Coefficient: {corr_coef}, P-value: {p_value}\")\n",
    "\n",
    "# Interpret the result\n",
    "alpha = 0.05\n",
    "if p_value < alpha:\n",
    "    print(\"Reject the null hypothesis: There is a significant correlation between alcohol content and malic acid.\")\n",
    "else:\n",
    "    print(\"Fail to reject the null hypothesis: There is no significant correlation between alcohol content and malic acid.\")"
   ]
  },
  {
   "cell_type": "markdown",
   "id": "acd26619",
   "metadata": {},
   "source": [
    "Linear Regression\n",
    "\n",
    "Let's perform a simple linear regression to predict alcohol content based on malic acid."
   ]
  },
  {
   "cell_type": "code",
   "execution_count": 8,
   "id": "ba3e063a",
   "metadata": {},
   "outputs": [
    {
     "name": "stdout",
     "output_type": "stream",
     "text": [
      "                            OLS Regression Results                            \n",
      "==============================================================================\n",
      "Dep. Variable:                alcohol   R-squared:                       0.009\n",
      "Model:                            OLS   Adj. R-squared:                  0.003\n",
      "Method:                 Least Squares   F-statistic:                     1.582\n",
      "Date:                Mon, 17 Mar 2025   Prob (F-statistic):              0.210\n",
      "Time:                        15:03:12   Log-Likelihood:                -214.17\n",
      "No. Observations:                 178   AIC:                             432.3\n",
      "Df Residuals:                     176   BIC:                             438.7\n",
      "Df Model:                           1                                         \n",
      "Covariance Type:            nonrobust                                         \n",
      "==============================================================================\n",
      "                 coef    std err          t      P>|t|      [0.025      0.975]\n",
      "------------------------------------------------------------------------------\n",
      "const         12.8403      0.141     90.971      0.000      12.562      13.119\n",
      "malic_acid     0.0686      0.055      1.258      0.210      -0.039       0.176\n",
      "==============================================================================\n",
      "Omnibus:                       13.695   Durbin-Watson:                   0.705\n",
      "Prob(Omnibus):                  0.001   Jarque-Bera (JB):                5.100\n",
      "Skew:                          -0.002   Prob(JB):                       0.0781\n",
      "Kurtosis:                       2.171   Cond. No.                         6.76\n",
      "==============================================================================\n",
      "\n",
      "Notes:\n",
      "[1] Standard Errors assume that the covariance matrix of the errors is correctly specified.\n"
     ]
    }
   ],
   "source": [
    "# Fit a linear regression model\n",
    "X = df['malic_acid']\n",
    "y = df['alcohol']\n",
    "X = sm.add_constant(X)  # Add a constant term for the intercept\n",
    "model = sm.OLS(y, X).fit()\n",
    "\n",
    "# Print the regression results\n",
    "print(model.summary())"
   ]
  },
  {
   "cell_type": "code",
   "execution_count": 9,
   "id": "5407065b",
   "metadata": {},
   "outputs": [
    {
     "data": {
      "image/png": "[encoded data removed]",
      "text/plain": [
       "<Figure size 640x480 with 1 Axes>"
      ]
     },
     "metadata": {},
     "output_type": "display_data"
    }
   ],
   "source": [
    "# Plot the regression line\n",
    "plt.scatter(df['malic_acid'], df['alcohol'], label='Data Points')\n",
    "plt.plot(df['malic_acid'], model.predict(X), color='red', label='Regression Line')\n",
    "plt.xlabel('Malic Acid')\n",
    "plt.ylabel('Alcohol Content')\n",
    "plt.title('Linear Regression: Alcohol Content vs Malic Acid')\n",
    "plt.legend()\n",
    "plt.show()"
   ]
  },
  {
   "cell_type": "markdown",
   "id": "90412025",
   "metadata": {},
   "source": [
    "Chi-Square Test for Categorical Data\n",
    "\n",
    "The chi-square test is used to determine if there is a significant association between two categorical variables. Let's test if the wine class is independent of a binned version of alcohol content.\n",
    "\n",
    "Create Bins for Alcohol Content"
   ]
  },
  {
   "cell_type": "code",
   "execution_count": 10,
   "id": "1a2a7ed3",
   "metadata": {},
   "outputs": [],
   "source": [
    "# Create bins for alcohol content\n",
    "df['alcohol_bin'] = pd.cut(df['alcohol'], bins=3, labels=['Low', 'Medium', 'High'])"
   ]
  },
  {
   "cell_type": "markdown",
   "id": "da5ec723",
   "metadata": {},
   "source": [
    "Perform Chi-Square Test"
   ]
  },
  {
   "cell_type": "code",
   "execution_count": 11,
   "id": "46411fb2",
   "metadata": {},
   "outputs": [
    {
     "name": "stdout",
     "output_type": "stream",
     "text": [
      "Chi-square Statistic: 98.85900654714656, P-value: 1.7207753472322594e-20\n",
      "Reject the null hypothesis: There is a significant association between wine class and alcohol content.\n"
     ]
    }
   ],
   "source": [
    "# Create a contingency table\n",
    "contingency_table = pd.crosstab(df['target'], df['alcohol_bin'])\n",
    "\n",
    "# Perform the chi-square test\n",
    "chi2_stat, p_value, dof, expected = stats.chi2_contingency(contingency_table)\n",
    "print(f\"Chi-square Statistic: {chi2_stat}, P-value: {p_value}\")\n",
    "\n",
    "# Interpret the result\n",
    "alpha = 0.05\n",
    "if p_value < alpha:\n",
    "    print(\"Reject the null hypothesis: There is a significant association between wine class and alcohol content.\")\n",
    "else:\n",
    "    print(\"Fail to reject the null hypothesis: There is no significant association between wine class and alcohol content.\")"
   ]
  }
 ],
 "metadata": {
  "kernelspec": {
   "display_name": "Python 3 (ipykernel)",
   "language": "python",
   "name": "python3"
  },
  "language_info": {
   "codemirror_mode": {
    "name": "ipython",
    "version": 3
   },
   "file_extension": ".py",
   "mimetype": "text/x-python",
   "name": "python",
   "nbconvert_exporter": "python",
   "pygments_lexer": "ipython3",
   "version": "3.11.7"
  }
 },
 "nbformat": 4,
 "nbformat_minor": 5
}
