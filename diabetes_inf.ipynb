{
 "cells": [
  {
   "cell_type": "markdown",
   "id": "db342cf4",
   "metadata": {},
   "source": [
    "Inferential Statistics on the Diabetes Dataset\n",
    "\n",
    "Inferential statistics involves making inferences about a population based on a sample of data. It includes techniques like hypothesis testing, confidence intervals, ANOVA, t-tests, and regression analysis."
   ]
  },
  {
   "cell_type": "markdown",
   "id": "751326d4",
   "metadata": {},
   "source": [
    "Let us import the necessary libraries"
   ]
  },
  {
   "cell_type": "code",
   "execution_count": 1,
   "id": "5ba872de",
   "metadata": {},
   "outputs": [],
   "source": [
    "import pandas as pd\n",
    "import numpy as np\n",
    "from sklearn.datasets import load_diabetes\n",
    "import scipy.stats as stats\n",
    "import statsmodels.api as sm\n",
    "from statsmodels.formula.api import ols\n",
    "import seaborn as sns\n",
    "import matplotlib.pyplot as plt"
   ]
  },
  {
   "cell_type": "markdown",
   "id": "a00c4e62",
   "metadata": {},
   "source": [
    "Now let us load the dataset"
   ]
  },
  {
   "cell_type": "code",
   "execution_count": 2,
   "id": "98aa5637",
   "metadata": {},
   "outputs": [],
   "source": [
    "# Load the diabetes dataset\n",
    "diabetes = load_diabetes()\n",
    "\n",
    "# Convert to a pandas DataFrame\n",
    "df = pd.DataFrame(data=diabetes.data, columns=diabetes.feature_names)\n",
    "df['target'] = diabetes.target"
   ]
  },
  {
   "cell_type": "markdown",
   "id": "25ba429d",
   "metadata": {},
   "source": [
    "Hypothesis Testing\n",
    "\n",
    "One-Sample t-Test\n",
    "\n",
    "This is used to test whether the mean of a feature (e.g., bmi) is significantly different from a known value (e.g., 0)."
   ]
  },
  {
   "cell_type": "code",
   "execution_count": 3,
   "id": "2445458b",
   "metadata": {},
   "outputs": [
    {
     "name": "stdout",
     "output_type": "stream",
     "text": [
      "One-Sample t-Test for BMI:\n",
      "t-statistic: -9.914159661291137e-14, p-value: 0.999999999999921\n",
      "Fail to reject the null hypothesis: The mean is not significantly different from 0.\n"
     ]
    }
   ],
   "source": [
    "# One-sample t-test for 'bmi' (test if mean is different from 0)\n",
    "t_stat, p_value = stats.ttest_1samp(df['bmi'], 0)\n",
    "print(\"One-Sample t-Test for BMI:\")\n",
    "print(f\"t-statistic: {t_stat}, p-value: {p_value}\")\n",
    "if p_value < 0.05:\n",
    "    print(\"Reject the null hypothesis: The mean is significantly different from 0.\")\n",
    "else:\n",
    "    print(\"Fail to reject the null hypothesis: The mean is not significantly different from 0.\")"
   ]
  },
  {
   "cell_type": "markdown",
   "id": "b5f447cb",
   "metadata": {},
   "source": [
    "Two-Sample t-Test\n",
    "\n",
    "We can use this to compare the means of two groups (e.g., target values above and below the median)."
   ]
  },
  {
   "cell_type": "code",
   "execution_count": 4,
   "id": "667ecf0b",
   "metadata": {},
   "outputs": [
    {
     "name": "stdout",
     "output_type": "stream",
     "text": [
      "Two-Sample t-Test for BMI:\n",
      "t-statistic: -10.885847035861474, p-value: 1.3404380858420138e-24\n",
      "Reject the null hypothesis: The means of the two groups are significantly different.\n"
     ]
    }
   ],
   "source": [
    "# Split the data into two groups based on the median of 'target'\n",
    "median_target = df['target'].median()\n",
    "group1 = df[df['target'] <= median_target]['bmi']\n",
    "group2 = df[df['target'] > median_target]['bmi']\n",
    "\n",
    "# Two-sample t-test\n",
    "t_stat, p_value = stats.ttest_ind(group1, group2)\n",
    "print(\"Two-Sample t-Test for BMI:\")\n",
    "print(f\"t-statistic: {t_stat}, p-value: {p_value}\")\n",
    "if p_value < 0.05:\n",
    "    print(\"Reject the null hypothesis: The means of the two groups are significantly different.\")\n",
    "else:\n",
    "    print(\"Fail to reject the null hypothesis: The means of the two groups are not significantly different.\")"
   ]
  },
  {
   "cell_type": "markdown",
   "id": "769e33be",
   "metadata": {},
   "source": [
    "Paired t-Test\n",
    "\n",
    "We use it to compare the means of two related features (e.g., bp and s1)."
   ]
  },
  {
   "cell_type": "code",
   "execution_count": 5,
   "id": "74bc3ba8",
   "metadata": {},
   "outputs": [
    {
     "name": "stdout",
     "output_type": "stream",
     "text": [
      "Paired t-Test for BP and S1:\n",
      "t-statistic: -1.2252950208590596e-14, p-value: 0.9999999999999902\n",
      "Fail to reject the null hypothesis: The means of the paired samples are not significantly different.\n"
     ]
    }
   ],
   "source": [
    "# Paired t-test for 'bp' and 's1'\n",
    "t_stat, p_value = stats.ttest_rel(df['bp'], df['s1'])\n",
    "print(\"Paired t-Test for BP and S1:\")\n",
    "print(f\"t-statistic: {t_stat}, p-value: {p_value}\")\n",
    "if p_value < 0.05:\n",
    "    print(\"Reject the null hypothesis: The means of the paired samples are significantly different.\")\n",
    "else:\n",
    "    print(\"Fail to reject the null hypothesis: The means of the paired samples are not significantly different.\")"
   ]
  },
  {
   "cell_type": "markdown",
   "id": "8938253a",
   "metadata": {},
   "source": [
    "Confidence Intervals\n",
    "\n",
    "Let us calculate confidence intervals for the mean of a feature."
   ]
  },
  {
   "cell_type": "code",
   "execution_count": 6,
   "id": "c357a9e1",
   "metadata": {},
   "outputs": [
    {
     "name": "stdout",
     "output_type": "stream",
     "text": [
      "95% Confidence Interval for BMI Mean: (-0.004451549462177969, 0.004451549462177519)\n"
     ]
    }
   ],
   "source": [
    "# Confidence interval for the mean of 'bmi'\n",
    "confidence_level = 0.95\n",
    "mean = df['bmi'].mean()\n",
    "std_err = stats.sem(df['bmi'])  # Standard error of the mean\n",
    "ci = stats.t.interval(confidence_level, len(df['bmi'])-1, loc=mean, scale=std_err)\n",
    "print(f\"95% Confidence Interval for BMI Mean: {ci}\")"
   ]
  },
  {
   "cell_type": "markdown",
   "id": "e8c3c6b8",
   "metadata": {},
   "source": [
    "ANOVA (Analysis of Variance)\n",
    "\n",
    "The ANOVA is used to test whether there are significant differences between the means of three or more groups.\n",
    "\n",
    "One-Way ANOVA\n",
    "\n",
    "This can compare the means of target across quartiles of bmi."
   ]
  },
  {
   "cell_type": "code",
   "execution_count": 7,
   "id": "94176e93",
   "metadata": {},
   "outputs": [
    {
     "name": "stdout",
     "output_type": "stream",
     "text": [
      "One-Way ANOVA for Target across BMI Quartiles:\n",
      "                       sum_sq     df          F        PR(>F)\n",
      "C(bmi_quartile)  7.728782e+05    3.0  61.056395  5.375804e-33\n",
      "Residual         1.848131e+06  438.0        NaN           NaN\n"
     ]
    }
   ],
   "source": [
    "# Create quartiles for 'bmi'\n",
    "df['bmi_quartile'] = pd.qcut(df['bmi'], q=4, labels=[\"Q1\", \"Q2\", \"Q3\", \"Q4\"])\n",
    "\n",
    "# Perform one-way ANOVA\n",
    "model = ols('target ~ C(bmi_quartile)', data=df).fit()\n",
    "anova_table = sm.stats.anova_lm(model, typ=2)\n",
    "print(\"One-Way ANOVA for Target across BMI Quartiles:\")\n",
    "print(anova_table)"
   ]
  },
  {
   "cell_type": "markdown",
   "id": "537dce46",
   "metadata": {},
   "source": [
    "Regression Analysis\n",
    "\n",
    "We perform linear regression to understand the relationship between features and the target variable.\n",
    "\n",
    "Simple Linear Regression"
   ]
  },
  {
   "cell_type": "code",
   "execution_count": 9,
   "id": "65e5ef5d",
   "metadata": {},
   "outputs": [
    {
     "name": "stdout",
     "output_type": "stream",
     "text": [
      "Simple Linear Regression (BMI vs Target):\n",
      "                            OLS Regression Results                            \n",
      "==============================================================================\n",
      "Dep. Variable:                 target   R-squared:                       0.344\n",
      "Model:                            OLS   Adj. R-squared:                  0.342\n",
      "Method:                 Least Squares   F-statistic:                     230.7\n",
      "Date:                Tue, 18 Mar 2025   Prob (F-statistic):           3.47e-42\n",
      "Time:                        16:43:08   Log-Likelihood:                -2454.0\n",
      "No. Observations:                 442   AIC:                             4912.\n",
      "Df Residuals:                     440   BIC:                             4920.\n",
      "Df Model:                           1                                         \n",
      "Covariance Type:            nonrobust                                         \n",
      "==============================================================================\n",
      "                 coef    std err          t      P>|t|      [0.025      0.975]\n",
      "------------------------------------------------------------------------------\n",
      "const        152.1335      2.974     51.162      0.000     146.289     157.978\n",
      "bmi          949.4353     62.515     15.187      0.000     826.570    1072.301\n",
      "==============================================================================\n",
      "Omnibus:                       11.674   Durbin-Watson:                   1.848\n",
      "Prob(Omnibus):                  0.003   Jarque-Bera (JB):                7.310\n",
      "Skew:                           0.156   Prob(JB):                       0.0259\n",
      "Kurtosis:                       2.453   Cond. No.                         21.0\n",
      "==============================================================================\n",
      "\n",
      "Notes:\n",
      "[1] Standard Errors assume that the covariance matrix of the errors is correctly specified.\n"
     ]
    }
   ],
   "source": [
    "# Simple linear regression between 'bmi' and 'target'\n",
    "X = df['bmi']\n",
    "y = df['target']\n",
    "X = sm.add_constant(X)  # Add a constant (intercept) to the model\n",
    "model = sm.OLS(y, X).fit()\n",
    "print(\"Simple Linear Regression (BMI vs Target):\")\n",
    "print(model.summary())"
   ]
  }
 ],
 "metadata": {
  "kernelspec": {
   "display_name": "Python 3 (ipykernel)",
   "language": "python",
   "name": "python3"
  },
  "language_info": {
   "codemirror_mode": {
    "name": "ipython",
    "version": 3
   },
   "file_extension": ".py",
   "mimetype": "text/x-python",
   "name": "python",
   "nbconvert_exporter": "python",
   "pygments_lexer": "ipython3",
   "version": "3.11.7"
  }
 },
 "nbformat": 4,
 "nbformat_minor": 5
}
